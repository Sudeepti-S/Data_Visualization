{
 "cells": [
  {
   "cell_type": "code",
   "execution_count": 1,
   "metadata": {},
   "outputs": [],
   "source": [
    "import pandas as pd \n",
    "\n",
    "#from vaderSentiment.vaderSentiment import SentimentIntensityAnalyzer\n",
    "#analyser = SentimentIntensityAnalyzer()\n",
    "from vaderSentiment.vaderSentiment import SentimentIntensityAnalyzer"
   ]
  },
  {
   "cell_type": "code",
   "execution_count": 10,
   "metadata": {},
   "outputs": [],
   "source": [
    "import os "
   ]
  },
  {
   "cell_type": "code",
   "execution_count": 12,
   "metadata": {},
   "outputs": [
    {
     "name": "stdout",
     "output_type": "stream",
     "text": [
      "/sfs/qumulo/qhome/ss9ud/Documents/Data_Viz\n"
     ]
    }
   ],
   "source": [
    "print(os.getcwd())\n"
   ]
  },
  {
   "cell_type": "code",
   "execution_count": 14,
   "metadata": {},
   "outputs": [
    {
     "name": "stderr",
     "output_type": "stream",
     "text": [
      "/apps/software/standard/compiler/gcc/7.1.0/jupyter_conda/2019.10-py3.7/lib/python3.7/site-packages/IPython/core/interactiveshell.py:3063: DtypeWarning: Columns (9,10,20) have mixed types.Specify dtype option on import or set low_memory=False.\n",
      "  interactivity=interactivity, compiler=compiler, result=result)\n"
     ]
    }
   ],
   "source": [
    "df = pd.read_csv('2020-03-00 Coronavirus Tweets (pre 2020-03-12).csv')"
   ]
  },
  {
   "cell_type": "code",
   "execution_count": 16,
   "metadata": {},
   "outputs": [],
   "source": [
    "df_test = pd.read_csv('2020-03-00 Coronavirus Tweets (pre 2020-03-12).csv')"
   ]
  },
  {
   "cell_type": "code",
   "execution_count": 17,
   "metadata": {},
   "outputs": [
    {
     "data": {
      "text/html": [
       "<div>\n",
       "<style scoped>\n",
       "    .dataframe tbody tr th:only-of-type {\n",
       "        vertical-align: middle;\n",
       "    }\n",
       "\n",
       "    .dataframe tbody tr th {\n",
       "        vertical-align: top;\n",
       "    }\n",
       "\n",
       "    .dataframe thead th {\n",
       "        text-align: right;\n",
       "    }\n",
       "</style>\n",
       "<table border=\"1\" class=\"dataframe\">\n",
       "  <thead>\n",
       "    <tr style=\"text-align: right;\">\n",
       "      <th></th>\n",
       "      <th>status_id</th>\n",
       "      <th>user_id</th>\n",
       "      <th>created_at</th>\n",
       "      <th>screen_name</th>\n",
       "      <th>text</th>\n",
       "      <th>source</th>\n",
       "      <th>reply_to_status_id</th>\n",
       "      <th>reply_to_user_id</th>\n",
       "      <th>reply_to_screen_name</th>\n",
       "      <th>is_quote</th>\n",
       "      <th>...</th>\n",
       "      <th>retweet_count</th>\n",
       "      <th>country_code</th>\n",
       "      <th>place_full_name</th>\n",
       "      <th>place_type</th>\n",
       "      <th>followers_count</th>\n",
       "      <th>friends_count</th>\n",
       "      <th>account_lang</th>\n",
       "      <th>account_created_at</th>\n",
       "      <th>verified</th>\n",
       "      <th>lang</th>\n",
       "    </tr>\n",
       "  </thead>\n",
       "  <tbody>\n",
       "    <tr>\n",
       "      <th>0</th>\n",
       "      <td>1235160526780416001</td>\n",
       "      <td>1163436067904618496</td>\n",
       "      <td>2020-03-04T11:09:52Z</td>\n",
       "      <td>Nanank08000089</td>\n",
       "      <td>#CoronaVirusIndonesia \\n#CoronaBukaBorokRezim ...</td>\n",
       "      <td>Twitter for Android</td>\n",
       "      <td>NaN</td>\n",
       "      <td>NaN</td>\n",
       "      <td>NaN</td>\n",
       "      <td>False</td>\n",
       "      <td>...</td>\n",
       "      <td>0.0</td>\n",
       "      <td>NaN</td>\n",
       "      <td>NaN</td>\n",
       "      <td>NaN</td>\n",
       "      <td>21.0</td>\n",
       "      <td>142.0</td>\n",
       "      <td>NaN</td>\n",
       "      <td>2019-08-19T13:02:45Z</td>\n",
       "      <td>False</td>\n",
       "      <td>und</td>\n",
       "    </tr>\n",
       "    <tr>\n",
       "      <th>1</th>\n",
       "      <td>1235160526780416001</td>\n",
       "      <td>1163436067904618496</td>\n",
       "      <td>2020-03-04T11:09:52Z</td>\n",
       "      <td>Nanank08000089</td>\n",
       "      <td>#CoronaVirusIndonesia \\n#CoronaBukaBorokRezim ...</td>\n",
       "      <td>Twitter for Android</td>\n",
       "      <td>NaN</td>\n",
       "      <td>NaN</td>\n",
       "      <td>NaN</td>\n",
       "      <td>False</td>\n",
       "      <td>...</td>\n",
       "      <td>0.0</td>\n",
       "      <td>NaN</td>\n",
       "      <td>NaN</td>\n",
       "      <td>NaN</td>\n",
       "      <td>21.0</td>\n",
       "      <td>142.0</td>\n",
       "      <td>NaN</td>\n",
       "      <td>2019-08-19T13:02:45Z</td>\n",
       "      <td>False</td>\n",
       "      <td>und</td>\n",
       "    </tr>\n",
       "    <tr>\n",
       "      <th>2</th>\n",
       "      <td>1235160546451873797</td>\n",
       "      <td>2255210942</td>\n",
       "      <td>2020-03-04T11:09:57Z</td>\n",
       "      <td>David_Mulroney</td>\n",
       "      <td>China’s wildlife trade via @SCMPgraphics  http...</td>\n",
       "      <td>Twitter for iPad</td>\n",
       "      <td>NaN</td>\n",
       "      <td>NaN</td>\n",
       "      <td>NaN</td>\n",
       "      <td>False</td>\n",
       "      <td>...</td>\n",
       "      <td>2.0</td>\n",
       "      <td>NaN</td>\n",
       "      <td>NaN</td>\n",
       "      <td>NaN</td>\n",
       "      <td>5666.0</td>\n",
       "      <td>2796.0</td>\n",
       "      <td>NaN</td>\n",
       "      <td>2013-12-20T16:14:18Z</td>\n",
       "      <td>False</td>\n",
       "      <td>en</td>\n",
       "    </tr>\n",
       "    <tr>\n",
       "      <th>3</th>\n",
       "      <td>1235160597475602432</td>\n",
       "      <td>366491737</td>\n",
       "      <td>2020-03-04T11:10:09Z</td>\n",
       "      <td>MarykeSchoonen</td>\n",
       "      <td>Proof that the media such as @CNN is unnecessa...</td>\n",
       "      <td>Twitter for iPhone</td>\n",
       "      <td>NaN</td>\n",
       "      <td>NaN</td>\n",
       "      <td>NaN</td>\n",
       "      <td>False</td>\n",
       "      <td>...</td>\n",
       "      <td>0.0</td>\n",
       "      <td>NaN</td>\n",
       "      <td>NaN</td>\n",
       "      <td>NaN</td>\n",
       "      <td>41.0</td>\n",
       "      <td>94.0</td>\n",
       "      <td>NaN</td>\n",
       "      <td>2011-09-02T08:22:14Z</td>\n",
       "      <td>False</td>\n",
       "      <td>en</td>\n",
       "    </tr>\n",
       "    <tr>\n",
       "      <th>4</th>\n",
       "      <td>1235160647614291968</td>\n",
       "      <td>61557732</td>\n",
       "      <td>2020-03-04T11:10:21Z</td>\n",
       "      <td>Arjit_Garg</td>\n",
       "      <td>Indians are a shitty breed of humans. With the...</td>\n",
       "      <td>Twitter for Android</td>\n",
       "      <td>NaN</td>\n",
       "      <td>NaN</td>\n",
       "      <td>NaN</td>\n",
       "      <td>False</td>\n",
       "      <td>...</td>\n",
       "      <td>0.0</td>\n",
       "      <td>IN</td>\n",
       "      <td>Greater Noida, India</td>\n",
       "      <td>city</td>\n",
       "      <td>486.0</td>\n",
       "      <td>50.0</td>\n",
       "      <td>NaN</td>\n",
       "      <td>2009-07-30T18:18:25Z</td>\n",
       "      <td>False</td>\n",
       "      <td>en</td>\n",
       "    </tr>\n",
       "  </tbody>\n",
       "</table>\n",
       "<p>5 rows × 22 columns</p>\n",
       "</div>"
      ],
      "text/plain": [
       "             status_id              user_id            created_at  \\\n",
       "0  1235160526780416001  1163436067904618496  2020-03-04T11:09:52Z   \n",
       "1  1235160526780416001  1163436067904618496  2020-03-04T11:09:52Z   \n",
       "2  1235160546451873797           2255210942  2020-03-04T11:09:57Z   \n",
       "3  1235160597475602432            366491737  2020-03-04T11:10:09Z   \n",
       "4  1235160647614291968             61557732  2020-03-04T11:10:21Z   \n",
       "\n",
       "      screen_name                                               text  \\\n",
       "0  Nanank08000089  #CoronaVirusIndonesia \\n#CoronaBukaBorokRezim ...   \n",
       "1  Nanank08000089  #CoronaVirusIndonesia \\n#CoronaBukaBorokRezim ...   \n",
       "2  David_Mulroney  China’s wildlife trade via @SCMPgraphics  http...   \n",
       "3  MarykeSchoonen  Proof that the media such as @CNN is unnecessa...   \n",
       "4      Arjit_Garg  Indians are a shitty breed of humans. With the...   \n",
       "\n",
       "                source  reply_to_status_id  reply_to_user_id  \\\n",
       "0  Twitter for Android                 NaN               NaN   \n",
       "1  Twitter for Android                 NaN               NaN   \n",
       "2     Twitter for iPad                 NaN               NaN   \n",
       "3   Twitter for iPhone                 NaN               NaN   \n",
       "4  Twitter for Android                 NaN               NaN   \n",
       "\n",
       "  reply_to_screen_name is_quote  ... retweet_count  country_code  \\\n",
       "0                  NaN    False  ...           0.0           NaN   \n",
       "1                  NaN    False  ...           0.0           NaN   \n",
       "2                  NaN    False  ...           2.0           NaN   \n",
       "3                  NaN    False  ...           0.0           NaN   \n",
       "4                  NaN    False  ...           0.0            IN   \n",
       "\n",
       "        place_full_name place_type followers_count friends_count  \\\n",
       "0                   NaN        NaN            21.0         142.0   \n",
       "1                   NaN        NaN            21.0         142.0   \n",
       "2                   NaN        NaN          5666.0        2796.0   \n",
       "3                   NaN        NaN            41.0          94.0   \n",
       "4  Greater Noida, India       city           486.0          50.0   \n",
       "\n",
       "   account_lang    account_created_at  verified lang  \n",
       "0           NaN  2019-08-19T13:02:45Z     False  und  \n",
       "1           NaN  2019-08-19T13:02:45Z     False  und  \n",
       "2           NaN  2013-12-20T16:14:18Z     False   en  \n",
       "3           NaN  2011-09-02T08:22:14Z     False   en  \n",
       "4           NaN  2009-07-30T18:18:25Z     False   en  \n",
       "\n",
       "[5 rows x 22 columns]"
      ]
     },
     "execution_count": 17,
     "metadata": {},
     "output_type": "execute_result"
    }
   ],
   "source": [
    "df_test.head()"
   ]
  },
  {
   "cell_type": "code",
   "execution_count": 18,
   "metadata": {},
   "outputs": [
    {
     "name": "stdout",
     "output_type": "stream",
     "text": [
      "<class 'pandas.core.frame.DataFrame'>\n",
      "RangeIndex: 390263 entries, 0 to 390262\n",
      "Data columns (total 22 columns):\n",
      " #   Column                Non-Null Count   Dtype  \n",
      "---  ------                --------------   -----  \n",
      " 0   status_id             390263 non-null  int64  \n",
      " 1   user_id               390263 non-null  int64  \n",
      " 2   created_at            390262 non-null  object \n",
      " 3   screen_name           390262 non-null  object \n",
      " 4   text                  390262 non-null  object \n",
      " 5   source                390262 non-null  object \n",
      " 6   reply_to_status_id    59693 non-null   float64\n",
      " 7   reply_to_user_id      69326 non-null   float64\n",
      " 8   reply_to_screen_name  69326 non-null   object \n",
      " 9   is_quote              390262 non-null  object \n",
      " 10  is_retweet            390262 non-null  object \n",
      " 11  favourites_count      390262 non-null  float64\n",
      " 12  retweet_count         390262 non-null  float64\n",
      " 13  country_code          17200 non-null   object \n",
      " 14  place_full_name       17234 non-null   object \n",
      " 15  place_type            17234 non-null   object \n",
      " 16  followers_count       390262 non-null  float64\n",
      " 17  friends_count         390262 non-null  float64\n",
      " 18  account_lang          0 non-null       float64\n",
      " 19  account_created_at    390262 non-null  object \n",
      " 20  verified              390262 non-null  object \n",
      " 21  lang                  390262 non-null  object \n",
      "dtypes: float64(7), int64(2), object(13)\n",
      "memory usage: 65.5+ MB\n"
     ]
    }
   ],
   "source": [
    "df_test.info()"
   ]
  },
  {
   "cell_type": "code",
   "execution_count": 19,
   "metadata": {},
   "outputs": [
    {
     "data": {
      "text/html": [
       "<div>\n",
       "<style scoped>\n",
       "    .dataframe tbody tr th:only-of-type {\n",
       "        vertical-align: middle;\n",
       "    }\n",
       "\n",
       "    .dataframe tbody tr th {\n",
       "        vertical-align: top;\n",
       "    }\n",
       "\n",
       "    .dataframe thead th {\n",
       "        text-align: right;\n",
       "    }\n",
       "</style>\n",
       "<table border=\"1\" class=\"dataframe\">\n",
       "  <thead>\n",
       "    <tr style=\"text-align: right;\">\n",
       "      <th></th>\n",
       "      <th>status_id</th>\n",
       "      <th>user_id</th>\n",
       "      <th>created_at</th>\n",
       "      <th>screen_name</th>\n",
       "      <th>text</th>\n",
       "      <th>source</th>\n",
       "      <th>reply_to_status_id</th>\n",
       "      <th>reply_to_user_id</th>\n",
       "      <th>reply_to_screen_name</th>\n",
       "      <th>is_quote</th>\n",
       "      <th>...</th>\n",
       "      <th>retweet_count</th>\n",
       "      <th>country_code</th>\n",
       "      <th>place_full_name</th>\n",
       "      <th>place_type</th>\n",
       "      <th>followers_count</th>\n",
       "      <th>friends_count</th>\n",
       "      <th>account_lang</th>\n",
       "      <th>account_created_at</th>\n",
       "      <th>verified</th>\n",
       "      <th>lang</th>\n",
       "    </tr>\n",
       "  </thead>\n",
       "  <tbody>\n",
       "    <tr>\n",
       "      <th>0</th>\n",
       "      <td>1235160526780416001</td>\n",
       "      <td>1163436067904618496</td>\n",
       "      <td>2020-03-04T11:09:52Z</td>\n",
       "      <td>Nanank08000089</td>\n",
       "      <td>#CoronaVirusIndonesia \\n#CoronaBukaBorokRezim ...</td>\n",
       "      <td>Twitter for Android</td>\n",
       "      <td>NaN</td>\n",
       "      <td>NaN</td>\n",
       "      <td>NaN</td>\n",
       "      <td>False</td>\n",
       "      <td>...</td>\n",
       "      <td>0.0</td>\n",
       "      <td>NaN</td>\n",
       "      <td>NaN</td>\n",
       "      <td>NaN</td>\n",
       "      <td>21.0</td>\n",
       "      <td>142.0</td>\n",
       "      <td>NaN</td>\n",
       "      <td>2019-08-19T13:02:45Z</td>\n",
       "      <td>False</td>\n",
       "      <td>und</td>\n",
       "    </tr>\n",
       "    <tr>\n",
       "      <th>1</th>\n",
       "      <td>1235160526780416001</td>\n",
       "      <td>1163436067904618496</td>\n",
       "      <td>2020-03-04T11:09:52Z</td>\n",
       "      <td>Nanank08000089</td>\n",
       "      <td>#CoronaVirusIndonesia \\n#CoronaBukaBorokRezim ...</td>\n",
       "      <td>Twitter for Android</td>\n",
       "      <td>NaN</td>\n",
       "      <td>NaN</td>\n",
       "      <td>NaN</td>\n",
       "      <td>False</td>\n",
       "      <td>...</td>\n",
       "      <td>0.0</td>\n",
       "      <td>NaN</td>\n",
       "      <td>NaN</td>\n",
       "      <td>NaN</td>\n",
       "      <td>21.0</td>\n",
       "      <td>142.0</td>\n",
       "      <td>NaN</td>\n",
       "      <td>2019-08-19T13:02:45Z</td>\n",
       "      <td>False</td>\n",
       "      <td>und</td>\n",
       "    </tr>\n",
       "    <tr>\n",
       "      <th>2</th>\n",
       "      <td>1235160546451873797</td>\n",
       "      <td>2255210942</td>\n",
       "      <td>2020-03-04T11:09:57Z</td>\n",
       "      <td>David_Mulroney</td>\n",
       "      <td>China’s wildlife trade via @SCMPgraphics  http...</td>\n",
       "      <td>Twitter for iPad</td>\n",
       "      <td>NaN</td>\n",
       "      <td>NaN</td>\n",
       "      <td>NaN</td>\n",
       "      <td>False</td>\n",
       "      <td>...</td>\n",
       "      <td>2.0</td>\n",
       "      <td>NaN</td>\n",
       "      <td>NaN</td>\n",
       "      <td>NaN</td>\n",
       "      <td>5666.0</td>\n",
       "      <td>2796.0</td>\n",
       "      <td>NaN</td>\n",
       "      <td>2013-12-20T16:14:18Z</td>\n",
       "      <td>False</td>\n",
       "      <td>en</td>\n",
       "    </tr>\n",
       "    <tr>\n",
       "      <th>3</th>\n",
       "      <td>1235160597475602432</td>\n",
       "      <td>366491737</td>\n",
       "      <td>2020-03-04T11:10:09Z</td>\n",
       "      <td>MarykeSchoonen</td>\n",
       "      <td>Proof that the media such as @CNN is unnecessa...</td>\n",
       "      <td>Twitter for iPhone</td>\n",
       "      <td>NaN</td>\n",
       "      <td>NaN</td>\n",
       "      <td>NaN</td>\n",
       "      <td>False</td>\n",
       "      <td>...</td>\n",
       "      <td>0.0</td>\n",
       "      <td>NaN</td>\n",
       "      <td>NaN</td>\n",
       "      <td>NaN</td>\n",
       "      <td>41.0</td>\n",
       "      <td>94.0</td>\n",
       "      <td>NaN</td>\n",
       "      <td>2011-09-02T08:22:14Z</td>\n",
       "      <td>False</td>\n",
       "      <td>en</td>\n",
       "    </tr>\n",
       "    <tr>\n",
       "      <th>4</th>\n",
       "      <td>1235160647614291968</td>\n",
       "      <td>61557732</td>\n",
       "      <td>2020-03-04T11:10:21Z</td>\n",
       "      <td>Arjit_Garg</td>\n",
       "      <td>Indians are a shitty breed of humans. With the...</td>\n",
       "      <td>Twitter for Android</td>\n",
       "      <td>NaN</td>\n",
       "      <td>NaN</td>\n",
       "      <td>NaN</td>\n",
       "      <td>False</td>\n",
       "      <td>...</td>\n",
       "      <td>0.0</td>\n",
       "      <td>IN</td>\n",
       "      <td>Greater Noida, India</td>\n",
       "      <td>city</td>\n",
       "      <td>486.0</td>\n",
       "      <td>50.0</td>\n",
       "      <td>NaN</td>\n",
       "      <td>2009-07-30T18:18:25Z</td>\n",
       "      <td>False</td>\n",
       "      <td>en</td>\n",
       "    </tr>\n",
       "  </tbody>\n",
       "</table>\n",
       "<p>5 rows × 22 columns</p>\n",
       "</div>"
      ],
      "text/plain": [
       "             status_id              user_id            created_at  \\\n",
       "0  1235160526780416001  1163436067904618496  2020-03-04T11:09:52Z   \n",
       "1  1235160526780416001  1163436067904618496  2020-03-04T11:09:52Z   \n",
       "2  1235160546451873797           2255210942  2020-03-04T11:09:57Z   \n",
       "3  1235160597475602432            366491737  2020-03-04T11:10:09Z   \n",
       "4  1235160647614291968             61557732  2020-03-04T11:10:21Z   \n",
       "\n",
       "      screen_name                                               text  \\\n",
       "0  Nanank08000089  #CoronaVirusIndonesia \\n#CoronaBukaBorokRezim ...   \n",
       "1  Nanank08000089  #CoronaVirusIndonesia \\n#CoronaBukaBorokRezim ...   \n",
       "2  David_Mulroney  China’s wildlife trade via @SCMPgraphics  http...   \n",
       "3  MarykeSchoonen  Proof that the media such as @CNN is unnecessa...   \n",
       "4      Arjit_Garg  Indians are a shitty breed of humans. With the...   \n",
       "\n",
       "                source  reply_to_status_id  reply_to_user_id  \\\n",
       "0  Twitter for Android                 NaN               NaN   \n",
       "1  Twitter for Android                 NaN               NaN   \n",
       "2     Twitter for iPad                 NaN               NaN   \n",
       "3   Twitter for iPhone                 NaN               NaN   \n",
       "4  Twitter for Android                 NaN               NaN   \n",
       "\n",
       "  reply_to_screen_name is_quote  ... retweet_count  country_code  \\\n",
       "0                  NaN    False  ...           0.0           NaN   \n",
       "1                  NaN    False  ...           0.0           NaN   \n",
       "2                  NaN    False  ...           2.0           NaN   \n",
       "3                  NaN    False  ...           0.0           NaN   \n",
       "4                  NaN    False  ...           0.0            IN   \n",
       "\n",
       "        place_full_name place_type followers_count friends_count  \\\n",
       "0                   NaN        NaN            21.0         142.0   \n",
       "1                   NaN        NaN            21.0         142.0   \n",
       "2                   NaN        NaN          5666.0        2796.0   \n",
       "3                   NaN        NaN            41.0          94.0   \n",
       "4  Greater Noida, India       city           486.0          50.0   \n",
       "\n",
       "   account_lang    account_created_at  verified lang  \n",
       "0           NaN  2019-08-19T13:02:45Z     False  und  \n",
       "1           NaN  2019-08-19T13:02:45Z     False  und  \n",
       "2           NaN  2013-12-20T16:14:18Z     False   en  \n",
       "3           NaN  2011-09-02T08:22:14Z     False   en  \n",
       "4           NaN  2009-07-30T18:18:25Z     False   en  \n",
       "\n",
       "[5 rows x 22 columns]"
      ]
     },
     "execution_count": 19,
     "metadata": {},
     "output_type": "execute_result"
    }
   ],
   "source": [
    "df.head()"
   ]
  },
  {
   "cell_type": "code",
   "execution_count": 20,
   "metadata": {},
   "outputs": [
    {
     "name": "stdout",
     "output_type": "stream",
     "text": [
      "<class 'pandas.core.frame.DataFrame'>\n",
      "RangeIndex: 390263 entries, 0 to 390262\n",
      "Data columns (total 22 columns):\n",
      " #   Column                Non-Null Count   Dtype  \n",
      "---  ------                --------------   -----  \n",
      " 0   status_id             390263 non-null  int64  \n",
      " 1   user_id               390263 non-null  int64  \n",
      " 2   created_at            390262 non-null  object \n",
      " 3   screen_name           390262 non-null  object \n",
      " 4   text                  390262 non-null  object \n",
      " 5   source                390262 non-null  object \n",
      " 6   reply_to_status_id    59693 non-null   float64\n",
      " 7   reply_to_user_id      69326 non-null   float64\n",
      " 8   reply_to_screen_name  69326 non-null   object \n",
      " 9   is_quote              390262 non-null  object \n",
      " 10  is_retweet            390262 non-null  object \n",
      " 11  favourites_count      390262 non-null  float64\n",
      " 12  retweet_count         390262 non-null  float64\n",
      " 13  country_code          17200 non-null   object \n",
      " 14  place_full_name       17234 non-null   object \n",
      " 15  place_type            17234 non-null   object \n",
      " 16  followers_count       390262 non-null  float64\n",
      " 17  friends_count         390262 non-null  float64\n",
      " 18  account_lang          0 non-null       float64\n",
      " 19  account_created_at    390262 non-null  object \n",
      " 20  verified              390262 non-null  object \n",
      " 21  lang                  390262 non-null  object \n",
      "dtypes: float64(7), int64(2), object(13)\n",
      "memory usage: 65.5+ MB\n"
     ]
    }
   ],
   "source": [
    "df.info()"
   ]
  },
  {
   "cell_type": "code",
   "execution_count": 21,
   "metadata": {},
   "outputs": [],
   "source": [
    "df['text'] = df['text'].astype(str)"
   ]
  },
  {
   "cell_type": "code",
   "execution_count": 22,
   "metadata": {},
   "outputs": [
    {
     "name": "stdout",
     "output_type": "stream",
     "text": [
      "<class 'pandas.core.frame.DataFrame'>\n",
      "RangeIndex: 390263 entries, 0 to 390262\n",
      "Data columns (total 22 columns):\n",
      " #   Column                Non-Null Count   Dtype  \n",
      "---  ------                --------------   -----  \n",
      " 0   status_id             390263 non-null  int64  \n",
      " 1   user_id               390263 non-null  int64  \n",
      " 2   created_at            390262 non-null  object \n",
      " 3   screen_name           390262 non-null  object \n",
      " 4   text                  390263 non-null  object \n",
      " 5   source                390262 non-null  object \n",
      " 6   reply_to_status_id    59693 non-null   float64\n",
      " 7   reply_to_user_id      69326 non-null   float64\n",
      " 8   reply_to_screen_name  69326 non-null   object \n",
      " 9   is_quote              390262 non-null  object \n",
      " 10  is_retweet            390262 non-null  object \n",
      " 11  favourites_count      390262 non-null  float64\n",
      " 12  retweet_count         390262 non-null  float64\n",
      " 13  country_code          17200 non-null   object \n",
      " 14  place_full_name       17234 non-null   object \n",
      " 15  place_type            17234 non-null   object \n",
      " 16  followers_count       390262 non-null  float64\n",
      " 17  friends_count         390262 non-null  float64\n",
      " 18  account_lang          0 non-null       float64\n",
      " 19  account_created_at    390262 non-null  object \n",
      " 20  verified              390262 non-null  object \n",
      " 21  lang                  390262 non-null  object \n",
      "dtypes: float64(7), int64(2), object(13)\n",
      "memory usage: 65.5+ MB\n"
     ]
    }
   ],
   "source": [
    "df.info()"
   ]
  },
  {
   "cell_type": "code",
   "execution_count": 23,
   "metadata": {},
   "outputs": [],
   "source": [
    "# use vader tool to get polarity scores on comments as a whole\n",
    "#p = [SentimentIntensityAnalyzer.polarity_scores(i) for i in df['text']]\n",
    "#df['polarity'] = p\n"
   ]
  },
  {
   "cell_type": "code",
   "execution_count": 24,
   "metadata": {},
   "outputs": [],
   "source": [
    "# https://stackoverflow.com/questions/57803412/applying-sentimentintensityanalyzer-function-on-each-row-of-the-dataframe-prov\n",
    "sid = SentimentIntensityAnalyzer()\n",
    "def get_sentiment(remarks,**kwargs):\n",
    "    sentiment_score = sid.polarity_scores(remarks)\n",
    "    positive_meter = round((sentiment_score['pos'] * 10), 2)\n",
    "    negative_meter = round((sentiment_score['neg'] * 10), 2)\n",
    "    return positive_meter if kwargs['k'] == 'positive' else negative_meter\n",
    "    \n"
   ]
  },
  {
   "cell_type": "code",
   "execution_count": null,
   "metadata": {},
   "outputs": [],
   "source": [
    "df['positive'] = df.text.apply(get_sentiment, k='positive')\n",
    "df['negative'] = df.text.apply(get_sentiment, k='negative')\n",
    "\n",
    "\n",
    "#for index, row in df.iterrows(): \n",
    "   #print(\"Positive : {}, Negative : {}\".format(row['positive'], row['negative']))\n",
    "    \n",
    "df.info()"
   ]
  },
  {
   "cell_type": "code",
   "execution_count": null,
   "metadata": {},
   "outputs": [],
   "source": [
    "df.sample(5)"
   ]
  },
  {
   "cell_type": "code",
   "execution_count": null,
   "metadata": {},
   "outputs": [],
   "source": [
    "df_final = df.loc[df['lang'] == 'en']\n",
    "\n",
    "# filter based on language - only language \n"
   ]
  },
  {
   "cell_type": "code",
   "execution_count": null,
   "metadata": {},
   "outputs": [],
   "source": [
    "df_final.sample(5)"
   ]
  },
  {
   "cell_type": "code",
   "execution_count": null,
   "metadata": {},
   "outputs": [],
   "source": []
  },
  {
   "cell_type": "code",
   "execution_count": null,
   "metadata": {},
   "outputs": [],
   "source": [
    "df_final = df_final.drop(['status_id'], axis=1)"
   ]
  },
  {
   "cell_type": "code",
   "execution_count": null,
   "metadata": {},
   "outputs": [],
   "source": [
    "df_final = df_final.drop(['reply_to_status_id'], axis=1)\n",
    "df_final = df_final.drop(['reply_to_user_id'], axis=1)\n",
    "df_final = df_final.drop(['reply_to_screen_name'], axis=1)\n",
    "df_final = df_final.drop(['place_full_name'], axis=1)\n",
    "df_final = df_final.drop(['account_lang'], axis=1)\n",
    "df_final = df_final.drop(['account_created_at'], axis=1)\n"
   ]
  },
  {
   "cell_type": "code",
   "execution_count": null,
   "metadata": {},
   "outputs": [],
   "source": [
    "df_final = df_final.drop(['country_code'], axis=1)"
   ]
  },
  {
   "cell_type": "code",
   "execution_count": null,
   "metadata": {},
   "outputs": [],
   "source": [
    "df_final = df_final.drop(['place_type'], axis=1)"
   ]
  },
  {
   "cell_type": "code",
   "execution_count": null,
   "metadata": {},
   "outputs": [],
   "source": [
    "df_final.info()"
   ]
  },
  {
   "cell_type": "code",
   "execution_count": null,
   "metadata": {},
   "outputs": [],
   "source": [
    "df_final.sample(5)"
   ]
  },
  {
   "cell_type": "code",
   "execution_count": null,
   "metadata": {},
   "outputs": [],
   "source": [
    "#l = list(df['polarity'])\n",
    "#df['neg'] = [i.get('neg') for i in l]\n",
    "#df['neu'] = [i.get('neu') for i in l]\n",
    "#df['pos'] = [i.get('pos') for i in l]\n",
    "#df['compound'] = [i.get('compound') for i in l]"
   ]
  },
  {
   "cell_type": "code",
   "execution_count": null,
   "metadata": {},
   "outputs": [],
   "source": [
    "df_final.to_csv('clean_output.csv')"
   ]
  },
  {
   "cell_type": "code",
   "execution_count": null,
   "metadata": {},
   "outputs": [],
   "source": [
    "\n",
    "# Offline mode\n",
    "from plotly.offline import init_notebook_mode, iplot\n",
    "init_notebook_mode(connected=True)"
   ]
  },
  {
   "cell_type": "code",
   "execution_count": null,
   "metadata": {},
   "outputs": [],
   "source": [
    "from plotly.offline import download_plotlyjs, init_notebook_mode, plot, iplot"
   ]
  },
  {
   "cell_type": "code",
   "execution_count": null,
   "metadata": {},
   "outputs": [],
   "source": [
    "import cufflinks as cf\n",
    "cf.go_offline()\n"
   ]
  },
  {
   "cell_type": "code",
   "execution_count": null,
   "metadata": {},
   "outputs": [],
   "source": [
    "#dataset2 = df_final[[\"favourites_count\", \"postive\", \"negative\"]]\n",
    "#dataset2.plot()"
   ]
  },
  {
   "cell_type": "code",
   "execution_count": null,
   "metadata": {},
   "outputs": [],
   "source": [
    "df_final.iplot(kind='bar', x=['positive', 'negative'],y='favourites_count')\n"
   ]
  },
  {
   "cell_type": "code",
   "execution_count": null,
   "metadata": {},
   "outputs": [],
   "source": [
    "dataset.iplot(kind='scatter', x='total_bill', y='tip', mode='markers')"
   ]
  }
 ],
 "metadata": {
  "kernelspec": {
   "display_name": "Python 3",
   "language": "python",
   "name": "python3"
  },
  "language_info": {
   "codemirror_mode": {
    "name": "ipython",
    "version": 3
   },
   "file_extension": ".py",
   "mimetype": "text/x-python",
   "name": "python",
   "nbconvert_exporter": "python",
   "pygments_lexer": "ipython3",
   "version": "3.7.4"
  }
 },
 "nbformat": 4,
 "nbformat_minor": 4
}
